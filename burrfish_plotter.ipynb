{
 "metadata": {
  "name": ""
 },
 "nbformat": 3,
 "nbformat_minor": 0,
 "worksheets": [
  {
   "cells": [
    {
     "cell_type": "code",
     "collapsed": false,
     "input": [
      "import matplotlib.animation as animation"
     ],
     "language": "python",
     "metadata": {},
     "outputs": [],
     "prompt_number": 14
    },
    {
     "cell_type": "code",
     "collapsed": false,
     "input": [
      "# given an array of 2n numbers, plot the positions as a scatter plot\n",
      "#x = [1, 1, 2, 5, 3, 3]\n",
      "#x = [-4.85669,8.796787,4.85669,11.173813]\n",
      "#x = [-5, 10, 5, 10]\n",
      "\n",
      "def untangle(x):\n",
      "    y, z = ([], [])\n",
      "    for i, a in enumerate(x):\n",
      "        if i%2 == 0:\n",
      "            y.append(a)\n",
      "        else:\n",
      "            z.append(a)\n",
      "            \n",
      "    return (y, z)"
     ],
     "language": "python",
     "metadata": {},
     "outputs": [],
     "prompt_number": 39
    },
    {
     "cell_type": "code",
     "collapsed": false,
     "input": [
      "import json\n",
      "f = open('/mnt/bits/code/mine/burrfish/out2.json', 'r')\n",
      "contents = f.read()\n",
      "data = json.loads(contents)\n",
      "\n",
      "\n",
      "\n",
      "def update_line(num, line, data):\n",
      "    (a, b) = untangle(data[num])\n",
      "    line.set_data(a, b)\n",
      "    \n",
      "\n",
      "fig1 = plt.figure()\n",
      "\n",
      "l, = plt.plot([], [], 'ro')\n",
      "plt.axis([-10, 10, -15, 15])\n",
      "\n",
      "line_ani = animation.FuncAnimation(fig1, update_line, 300, fargs=(l,data),\n",
      "    interval=50, blit=False)\n"
     ],
     "language": "python",
     "metadata": {},
     "outputs": [],
     "prompt_number": 54
    }
   ],
   "metadata": {}
  }
 ]
}