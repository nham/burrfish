{
 "metadata": {
  "name": ""
 },
 "nbformat": 3,
 "nbformat_minor": 0,
 "worksheets": [
  {
   "cells": [
    {
     "cell_type": "code",
     "collapsed": false,
     "input": [
      "import matplotlib.animation as animation\n",
      "\n",
      "\n",
      "def untangle(x):\n",
      "    y, z = ([], [])\n",
      "    for i, a in enumerate(x):\n",
      "        if i%2 == 0:\n",
      "            y.append(a)\n",
      "        else:\n",
      "            z.append(a)\n",
      "            \n",
      "    return (y, z)\n",
      "\n",
      "\n",
      "import json\n",
      "\n",
      "# config here\n",
      "fname = 'new_out_1.json'\n",
      "(graph_cx, graph_cy) = (0, 0)\n",
      "graph_r = 40\n",
      "\n",
      "\n",
      "f = open('/mnt/bits/code/mine/burrfish/' + fname, 'r')\n",
      "contents = f.read()\n",
      "data = json.loads(contents)\n",
      "\n",
      "# [ ([list1], [list2]), ([list1], [list2]), ... ]\n",
      "data1, data2 = zip(*map(untangle, data))\n",
      "\n",
      "fig = plt.figure()\n",
      "line, = plt.plot([], [], 'ro')\n",
      "plt.axis([graph_cx - graph_r, \n",
      "          graph_cx + graph_r,\n",
      "          graph_cy - graph_r,\n",
      "          graph_cy + graph_r])\n",
      "\n",
      "import math\n",
      "\n",
      "def euc2d(a, b):\n",
      "    return math.sqrt( (a[1] - a[0])**2 + (b[1] - b[0])**2 )\n",
      "\n",
      "def init():\n",
      "    line.set_data([], [])\n",
      "    return line,\n",
      "\n",
      "def update_line(num):\n",
      "    line.set_data(data1[num], data2[num])\n",
      "    return line,\n",
      "\n",
      "line_ani = animation.FuncAnimation(fig, update_line, np.arange(1, len(data1)),\n",
      "    interval=25, blit=True, init_func=init)\n"
     ],
     "language": "python",
     "metadata": {},
     "outputs": [],
     "prompt_number": 2
    },
    {
     "cell_type": "code",
     "collapsed": false,
     "input": [
      "x = [1,2,3]\n",
      "y = [7,8,9]\n",
      "z = list(zip(x, y))\n",
      "print(z)\n",
      "\n",
      "newx, newy = zip(*zip(x,y))\n",
      "print(list(newx))"
     ],
     "language": "python",
     "metadata": {},
     "outputs": [
      {
       "output_type": "stream",
       "stream": "stdout",
       "text": [
        "[(1, 7), (2, 8), (3, 9)]\n",
        "[1, 2, 3]\n"
       ]
      }
     ],
     "prompt_number": 60
    },
    {
     "cell_type": "code",
     "collapsed": false,
     "input": [],
     "language": "python",
     "metadata": {},
     "outputs": []
    }
   ],
   "metadata": {}
  }
 ]
}