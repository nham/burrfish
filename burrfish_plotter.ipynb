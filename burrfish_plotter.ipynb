{
 "metadata": {
  "name": ""
 },
 "nbformat": 3,
 "nbformat_minor": 0,
 "worksheets": [
  {
   "cells": [
    {
     "cell_type": "code",
     "collapsed": false,
     "input": [
      "import matplotlib.animation as animation\n",
      "\n",
      "def untangle(x):\n",
      "    y, z = ([], [])\n",
      "    for i, a in enumerate(x):\n",
      "        if i%2 == 0:\n",
      "            y.append(a)\n",
      "        else:\n",
      "            z.append(a)\n",
      "            \n",
      "    return (y, z)\n",
      "\n",
      "\n",
      "import json\n",
      "f = open('/mnt/bits/code/mine/burrfish/out2.json', 'r')\n",
      "contents = f.read()\n",
      "data = json.loads(contents)\n",
      "\n",
      "# [ ([list1], [list2]), ([list1], [list2]), ... ]\n",
      "data1, data2 = zip(*map(untangle, data))\n",
      "\n",
      "fig = plt.figure()\n",
      "line, = plt.plot([], [], 'ro')\n",
      "plt.axis([-10, 10, -25, 15])\n",
      "\n",
      "\n",
      "def init():\n",
      "    line.set_data([], [])\n",
      "    return line,\n",
      "\n",
      "def update_line(num):\n",
      "    line.set_data(data1[num], data2[num])\n",
      "    return line,\n",
      "\n",
      "line_ani = animation.FuncAnimation(fig, update_line, np.arange(1, len(data1)),\n",
      "    interval=25, blit=True, init_func=init)\n"
     ],
     "language": "python",
     "metadata": {},
     "outputs": [],
     "prompt_number": 36
    },
    {
     "cell_type": "code",
     "collapsed": false,
     "input": [
      "x = [1,2,3]\n",
      "y = [7,8,9]\n",
      "z = list(zip(x, y))\n",
      "print(z)\n",
      "\n",
      "newx, newy = zip(*zip(x,y))\n",
      "print(list(newx))"
     ],
     "language": "python",
     "metadata": {},
     "outputs": [
      {
       "output_type": "stream",
       "stream": "stdout",
       "text": [
        "[(1, 7), (2, 8), (3, 9)]\n",
        "[1, 2, 3]\n"
       ]
      }
     ],
     "prompt_number": 13
    }
   ],
   "metadata": {}
  }
 ]
}